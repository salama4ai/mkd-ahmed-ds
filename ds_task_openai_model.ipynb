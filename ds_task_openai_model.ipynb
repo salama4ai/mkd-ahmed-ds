{
 "cells": [
  {
   "cell_type": "markdown",
   "id": "913ca1dc-4fd2-44fd-89cf-5d2b84a08f60",
   "metadata": {},
   "source": [
    "**this notebook is an answer for the point number 6 which states:-**\n",
    "\n",
    "**6. The embedding model we used here is a basic embedding model, change the model and use openai's embedding model 'text-embedding-ada-002'**"
   ]
  },
  {
   "cell_type": "markdown",
   "id": "96827075-1330-4246-a3ad-ce282bbf5f93",
   "metadata": {},
   "source": [
    "**Unfortunately i couldn't create another index, as i need to pay for creating another index, but the code is here**"
   ]
  },
  {
   "cell_type": "markdown",
   "id": "f7a87cc8-6267-413e-b69b-363bdedc6438",
   "metadata": {},
   "source": [
    "**when i tried to make openai api key i get message states:- \"Not available \n",
    "OpenAI's services are not available in your country.\"**"
   ]
  },
  {
   "cell_type": "code",
   "execution_count": 1,
   "id": "5830e97c-d651-42eb-aec9-1b7459aef319",
   "metadata": {},
   "outputs": [],
   "source": [
    "import openai\n",
    "\n",
    "openai.api_key = \"YOUR_API_KEY\" # when i tried to make openai api key i get message states:- \"Not available OpenAI's services are not available in your country.\"\n",
    "# get API key from top-right dropdown on OpenAI website\n",
    "\n",
    "openai.Engine.list()  # check we have authenticated"
   ]
  },
  {
   "cell_type": "code",
   "execution_count": 2,
   "id": "6c39b130-f935-46a4-bb3a-9887425c53b1",
   "metadata": {},
   "outputs": [],
   "source": [
    "MODEL = \"text-embedding-ada-002\"\n",
    "\n",
    "res = openai.Embedding.create(\n",
    "    input=[\n",
    "        \"Sample document text goes here\",\n",
    "        \"there will be several phrases in each batch\"\n",
    "    ], engine=MODEL\n",
    ")"
   ]
  },
  {
   "cell_type": "code",
   "execution_count": 3,
   "id": "8d298dc2-ad11-414e-ba18-cfacb37c117b",
   "metadata": {},
   "outputs": [],
   "source": [
    "# extract embeddings to a list\n",
    "embeds = [record['embedding'] for record in res['data']]"
   ]
  },
  {
   "cell_type": "code",
   "execution_count": null,
   "id": "00e67795-151b-411d-8fb1-9b1f244c5cc8",
   "metadata": {},
   "outputs": [],
   "source": [
    "import pinecone\n",
    "\n",
    "# initialize connection to pinecone (get API key at app.pinecone.io)\n",
    "pinecone.init(\n",
    "    api_key=\"dae36959-08bc-4f9e-8468-3741321386b6\",\n",
    "    environment=\"us-east-1-aws\"  # find next to API key in console\n",
    ")\n",
    "\n",
    "# check if 'openai' index already exists (only create index if not)\n",
    "if 'openai' not in pinecone.list_indexes():\n",
    "    pinecone.create_index('openai', dimension=len(embeds[0]))\n",
    "# connect to index\n",
    "index = pinecone.Index('openai')"
   ]
  },
  {
   "cell_type": "code",
   "execution_count": null,
   "id": "7d579174-f895-4d5b-a3d8-d35367ebe4ab",
   "metadata": {},
   "outputs": [],
   "source": [
    "from datasets import load_dataset\n",
    "\n",
    "# load the first 1K rows of the TREC dataset\n",
    "trec = load_dataset('trec', split='train[:1000]')"
   ]
  },
  {
   "cell_type": "code",
   "execution_count": null,
   "id": "adaf15d2-b4e3-4ce0-8507-8ab1109da287",
   "metadata": {},
   "outputs": [],
   "source": [
    "from tqdm.auto import tqdm  # this is our progress bar\n",
    "\n",
    "batch_size = 32  # process everything in batches of 32\n",
    "for i in tqdm(range(0, len(trec['text']), batch_size)):\n",
    "    # set end position of batch\n",
    "    i_end = min(i+batch_size, len(trec['text']))\n",
    "    # get batch of lines and IDs\n",
    "    lines_batch = trec['text'][i: i+batch_size]\n",
    "    ids_batch = [str(n) for n in range(i, i_end)]\n",
    "    # create embeddings\n",
    "    res = openai.Embedding.create(input=lines_batch, engine=MODEL)\n",
    "    embeds = [record['embedding'] for record in res['data']]\n",
    "    # prep metadata and upsert batch\n",
    "    meta = [{'text': line} for line in lines_batch]\n",
    "    to_upsert = zip(ids_batch, embeds, meta)\n",
    "    # upsert to Pinecone\n",
    "    index.upsert(vectors=list(to_upsert))\n"
   ]
  },
  {
   "cell_type": "code",
   "execution_count": null,
   "id": "4fd07cb2-bfdd-47fe-ab7e-05da60e6e7be",
   "metadata": {},
   "outputs": [],
   "source": [
    "query = \"What caused the 1929 Great Depression?\"\n",
    "\n",
    "xq = openai.Embedding.create(input=query, engine=MODEL)['data'][0]['embedding']"
   ]
  },
  {
   "cell_type": "code",
   "execution_count": null,
   "id": "2e372840-6619-42a7-916c-ede61b54cbc6",
   "metadata": {},
   "outputs": [],
   "source": [
    "res = index.query([xq], top_k=5, include_metadata=True)"
   ]
  },
  {
   "cell_type": "code",
   "execution_count": null,
   "id": "efee8def-50d1-4444-8577-f68b14bce589",
   "metadata": {},
   "outputs": [],
   "source": [
    "for match in res['matches']:\n",
    "    print(f\"{match['score']:.2f}: {match['metadata']['text']}\")\n"
   ]
  },
  {
   "cell_type": "markdown",
   "id": "88567f33-819a-4530-97e0-50bd70fcc7d7",
   "metadata": {},
   "source": [
    "**shortly https://docs.pinecone.io/docs/openai is the answer for this question**"
   ]
  },
  {
   "cell_type": "code",
   "execution_count": null,
   "id": "0fa93b39-542e-49c5-a49e-3e4e4bea1c5a",
   "metadata": {},
   "outputs": [],
   "source": []
  }
 ],
 "metadata": {
  "kernelspec": {
   "display_name": "Python 3 (ipykernel)",
   "language": "python",
   "name": "python3"
  },
  "language_info": {
   "codemirror_mode": {
    "name": "ipython",
    "version": 3
   },
   "file_extension": ".py",
   "mimetype": "text/x-python",
   "name": "python",
   "nbconvert_exporter": "python",
   "pygments_lexer": "ipython3",
   "version": "3.9.7"
  }
 },
 "nbformat": 4,
 "nbformat_minor": 5
}
