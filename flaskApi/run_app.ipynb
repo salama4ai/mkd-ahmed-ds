{
 "cells": [
  {
   "cell_type": "markdown",
   "id": "65aec23b-187d-424f-adbd-1732e69c9452",
   "metadata": {},
   "source": [
    "- to run your app, you need to run cmd as server by running the following commands and leave this cmd opened\n",
    "- cd to the folder contains your flask app, then run\n",
    "- set(or export incase of linux or mac) FLASK_APP=your app file name\n",
    "- set FLASK_APP=app.py\n",
    "- set FLASK_DEBUG=True\n",
    "- flask run\n",
    "- thus your server is ready for development, i.e modify the project without close and reopen the server after any change in you app to get work, in the deployment you set flask debug to flase"
   ]
  },
  {
   "cell_type": "code",
   "execution_count": 1,
   "id": "8408e4dc-ec19-4991-a36f-cb77443e1cb5",
   "metadata": {},
   "outputs": [
    {
     "name": "stdout",
     "output_type": "stream",
     "text": [
      "flask 2.2.2\n",
      "Endpoint           Methods    Rule\n",
      "-----------------  ---------  -----------------------\n",
      "dashboard.m        GET        /\n",
      "dashboard.m        GET        /altr/\n",
      "dashboard.m        GET        /g\n",
      "dashboard.main     GET        /query/<path:query>\n",
      "dashboard.methodd  GET, POST  /\n",
      "index.main         GET        /home/<int:num>/\n",
      "static             GET        /static/<path:filename>\n"
     ]
    },
    {
     "data": {
      "text/plain": [
       "'D:\\\\projects\\\\flaskk\\\\func_strctr'"
      ]
     },
     "execution_count": 1,
     "metadata": {},
     "output_type": "execute_result"
    }
   ],
   "source": [
    "import flask\n",
    "print(\"flask\",flask.__version__)\n",
    "# !flask --help\n",
    "!flask routes  \n",
    "%pwd"
   ]
  },
  {
   "cell_type": "code",
   "execution_count": 2,
   "id": "343b6323-f8a1-4aa5-a2b4-5462b711f434",
   "metadata": {},
   "outputs": [
    {
     "name": "stdout",
     "output_type": "stream",
     "text": [
      "^C\n"
     ]
    }
   ],
   "source": [
    "# !python app.py\n",
    "# !flask run\n",
    "# or !flask --app [app name] run if the name of the app file is not app\n",
    "!flask --app app run \n",
    "##if the file is named app.py or wsgi.py, you don’t have to use --app"
   ]
  },
  {
   "cell_type": "code",
   "execution_count": 2,
   "id": "e08eb72f-121a-44a0-bd63-4a17116985e0",
   "metadata": {},
   "outputs": [],
   "source": [
    "# # to create the table in the models.py\n",
    "# from models import db\n",
    "# db.create_all()"
   ]
  },
  {
   "cell_type": "code",
   "execution_count": 2,
   "id": "96d53cf9-2a43-4154-938e-db0c8ec197fa",
   "metadata": {},
   "outputs": [],
   "source": [
    "from flask import Flask, render_template\n",
    "app = Flask(__name__)\n",
    "@app.route(\"/\")\n",
    "def n():\n",
    "    return render_template()"
   ]
  },
  {
   "cell_type": "code",
   "execution_count": 1,
   "id": "712755c1-6db6-40ae-b8ea-1a2c7e289e8f",
   "metadata": {},
   "outputs": [
    {
     "data": {
      "text/html": [
       "<h1>Hello World</h1>"
      ],
      "text/plain": [
       "<IPython.core.display.HTML object>"
      ]
     },
     "metadata": {},
     "output_type": "display_data"
    }
   ],
   "source": [
    "from IPython.display import display, HTML\n",
    "display(HTML('<h1>Hello World</h1>'))"
   ]
  },
  {
   "cell_type": "code",
   "execution_count": 2,
   "id": "149dd289-c1a1-4806-aef2-c7f675b44d2b",
   "metadata": {},
   "outputs": [
    {
     "data": {
      "text/html": [
       "<h1>Hello World</h1>"
      ],
      "text/plain": [
       "<IPython.core.display.HTML object>"
      ]
     },
     "execution_count": 2,
     "metadata": {},
     "output_type": "execute_result"
    }
   ],
   "source": [
    "HTML('<h1>Hello World</h1>')"
   ]
  }
 ],
 "metadata": {
  "kernelspec": {
   "display_name": "Python 3 (ipykernel)",
   "language": "python",
   "name": "python3"
  },
  "language_info": {
   "codemirror_mode": {
    "name": "ipython",
    "version": 3
   },
   "file_extension": ".py",
   "mimetype": "text/x-python",
   "name": "python",
   "nbconvert_exporter": "python",
   "pygments_lexer": "ipython3",
   "version": "3.9.7"
  }
 },
 "nbformat": 4,
 "nbformat_minor": 5
}
